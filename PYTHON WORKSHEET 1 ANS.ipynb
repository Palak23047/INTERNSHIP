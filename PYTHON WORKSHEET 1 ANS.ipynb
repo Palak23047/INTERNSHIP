{
 "cells": [
  {
   "cell_type": "markdown",
   "id": "f04c630f",
   "metadata": {},
   "source": [
    "11.Find the factorial of the number"
   ]
  },
  {
   "cell_type": "code",
   "execution_count": 5,
   "id": "00fc03b2",
   "metadata": {},
   "outputs": [
    {
     "name": "stdout",
     "output_type": "stream",
     "text": [
      "Enter a number.5\n",
      "Factorial= 5\n",
      "Factorial= 20\n",
      "Factorial= 60\n",
      "Factorial= 120\n",
      "Factorial= 120\n"
     ]
    }
   ],
   "source": [
    "i=int(input(\"Enter a number.\"))\n",
    "fact=1\n",
    "while (i>0):\n",
    "    fact=fact*i\n",
    "    i=i-1\n",
    "    print(\"Factorial=\",fact)"
   ]
  },
  {
   "cell_type": "markdown",
   "id": "f941a94d",
   "metadata": {},
   "source": [
    "12. Find whether a nuber is prime or composite."
   ]
  },
  {
   "cell_type": "code",
   "execution_count": 3,
   "id": "c8a00ff2",
   "metadata": {},
   "outputs": [
    {
     "name": "stdout",
     "output_type": "stream",
     "text": [
      "Enter a number34\n",
      "34 is a composite number\n"
     ]
    }
   ],
   "source": [
    "n=int(input(\"Enter a number\"))\n",
    "for i in range(2,n):\n",
    "    if n%i ==0:\n",
    "        print(n,\"is a composite number\")\n",
    "        break\n",
    "else:\n",
    "            print(n,\" is a prime number\")"
   ]
  },
  {
   "cell_type": "markdown",
   "id": "ecf1390a",
   "metadata": {},
   "source": [
    "13. Check whether a given string is palindrome or not."
   ]
  },
  {
   "cell_type": "code",
   "execution_count": 6,
   "id": "2933fff1",
   "metadata": {},
   "outputs": [
    {
     "name": "stdout",
     "output_type": "stream",
     "text": [
      "Enter string valueLEVEL\n",
      "LEVEL  is palindrome\n"
     ]
    }
   ],
   "source": [
    "a= input(\"Enter string value\")\n",
    "b=a[-1::-1]\n",
    "if (a==b):\n",
    "    print(a,\" is palindrome\")\n",
    "else:\n",
    "    print(a,\" is not palindrome\")"
   ]
  },
  {
   "cell_type": "markdown",
   "id": "4cfc80f9",
   "metadata": {},
   "source": [
    "14.Find the third side of right-angleD triangle from two given sides\n"
   ]
  },
  {
   "cell_type": "code",
   "execution_count": 1,
   "id": "d99b82ee",
   "metadata": {},
   "outputs": [
    {
     "name": "stdout",
     "output_type": "stream",
     "text": [
      "Enter base of triangle:6\n",
      "Enter height of triangle:7\n",
      "Length of hypotenuse is 21.0\n"
     ]
    }
   ],
   "source": [
    "base= float(input(\"Enter base of triangle:\"))\n",
    "height=float(input(\"Enter height of triangle:\"))\n",
    "print(\"Length of hypotenuse is\",(base*height/2))"
   ]
  },
  {
   "cell_type": "markdown",
   "id": "4be037a4",
   "metadata": {},
   "source": [
    "15. Print the frequency of each of the characters present in a give string.\n"
   ]
  },
  {
   "cell_type": "code",
   "execution_count": 2,
   "id": "ffa30bb6",
   "metadata": {},
   "outputs": [
    {
     "name": "stdout",
     "output_type": "stream",
     "text": [
      "Enter a stringhello! beautiful\n",
      "string is hello! beautiful\n",
      "{'h': 1, 'e': 2, 'l': 3, 'o': 1, '!': 1, ' ': 1, 'b': 1, 'a': 1, 'u': 2, 't': 1, 'i': 1, 'f': 1}\n"
     ]
    }
   ],
   "source": [
    "str=input(\"Enter a string\")\n",
    "print(\"string is\",str)\n",
    "count={}\n",
    "for x in str:\n",
    "    if x in count.keys():\n",
    "        count[x]+=1\n",
    "    else:\n",
    "            count[x]=1\n",
    "print(count)"
   ]
  }
 ],
 "metadata": {
  "kernelspec": {
   "display_name": "Python 3 (ipykernel)",
   "language": "python",
   "name": "python3"
  },
  "language_info": {
   "codemirror_mode": {
    "name": "ipython",
    "version": 3
   },
   "file_extension": ".py",
   "mimetype": "text/x-python",
   "name": "python",
   "nbconvert_exporter": "python",
   "pygments_lexer": "ipython3",
   "version": "3.9.7"
  }
 },
 "nbformat": 4,
 "nbformat_minor": 5
}
